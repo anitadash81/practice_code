"Q.2\n",
    "Write a program to generate a CSV file as described in the problem with 100 random entries.\n",
    "\n",
    "CSV should also be uploaded into the repository."
   ]
  },
  {
   "cell_type": "raw",
   "id": "f46187b6",
   "metadata": {},
   "source": [
    "Problem Statement:\n",
    "Imagine you are working for a small data analysis company, and your team has been given a CSV file containing data \n",
    "about customer orders from an e-commerce website. \n",
    "Your task is to write a Python program that reads and analyzes this data to provide some insights to your client.\n",
    "\n",
    "The CSV file, named \"customer_orders.csv,\" has the following format:\n",
    "\n",
    "OrderID, Product, Quantity, Price\n",
    "1,      Widget A,  10,      5.99\n",
    "2,      Widget B,  5,       7.49\n",
    "3,      Widget A,  8,      5.99\n",
    "4,      Widget C,  3,      12.99\n",
    "5,      Widget B,  7,      7.49\n",
    "Each row represents a single customer order with the following columns:\n",
    "    \n",
    "OrderID: A unique identifier for the order.\n",
    "Product: The name of the product ordered.\n",
    "Quantity: The quantity of the product ordered.\n",
    "Price: The price per unit of the product."
   ]
  },
  {
   "cell_type": "code",
   "execution_count": 2,
   "id": "732eec24",
   "metadata": {},
   "outputs": [
    {
     "name": "stdout",
     "output_type": "stream",
     "text": [
      "CSV file 'customer_orders.csv' with 100 random entries generated successfully.\n"
     ]
    }
   ],
   "source": [
    "import csv\n",
    "import random\n",
    "\n",
    "# Function to generate random data for customer orders\n",
    "def generate_random_order():\n",
    "    order_id = random.randint(1000, 9999)\n",
    "    product = random.choice(['Widget A', 'Widget B', 'Widget C'])\n",
    "    quantity = random.randint(1, 20)\n",
    "    price = round(random.uniform(1.0, 100.0), 2)\n",
    "    return [order_id, product, quantity, price]\n",
    "\n",
    "# Function to generate CSV file\n",
    "def generate_csv(filename, num_entries):\n",
    "    with open(filename, 'w', newline='') as csvfile:\n",
    "        csv_writer = csv.writer(csvfile)\n",
    "        csv_writer.writerow(['Order ID', 'Product', 'Quantity', 'Price'])\n",
    "        for _ in range(num_entries):\n",
    "            order_data = generate_random_order()\n",
    "            csv_writer.writerow(order_data)\n",
    "# Specify the filename for the CSV file and the number of entries\n",
    "filename = 'customer_orders.csv'\n",
    "num_entries = 100\n",
    "\n",
    "# Generate the CSV file with 100 random entries\n",
    "generate_csv(filename, num_entries)\n",
    "\n",
    "generate_csv('customer_orders.csv', 100)\n",
    "print(f\"CSV file '{filename}' with {num_entries} random entries generated successfully.\")\n"
   ]
  },
  {
   "cell_type": "code",
   "execution_count": 2,
   "id": "18cc8f1a",
   "metadata": {},
   "outputs": [],
   "source": [
    "# Importing all the python libraries to do the required Data Analysis\n",
    "\n",
    "\n",
    "import pandas as pd  # for import, export and manipulation\n",
    "import numpy as np    # for scientific calculations\n",
    "import matplotlib.pyplot as plt  #for visualisation\n",
    "import seaborn as sns            # for multidimensional visualization\n",
    "\n"
   ]
  },
  {
   "cell_type": "code",
   "execution_count": 3,
   "id": "a79ad739",
   "metadata": {},
   "outputs": [],
   "source": [
    "df=pd.read_csv(\"customer_orders.csv\") #loading and reading the csv file"
   ]
  },
  {
   "cell_type": "code",
   "execution_count": 5,
   "id": "92ed2089",
   "metadata": {},
   "outputs": [
    {
     "data": {
      "text/html": [
       "<div>\n",
       "<style scoped>\n",
       "    .dataframe tbody tr th:only-of-type {\n",
       "        vertical-align: middle;\n",
       "    }\n",
       "\n",
       "    .dataframe tbody tr th {\n",
       "        vertical-align: top;\n",
       "    }\n",
       "\n",
       "    .dataframe thead th {\n",
       "        text-align: right;\n",
       "    }\n",
       "</style>\n",
       "<table border=\"1\" class=\"dataframe\">\n",
       "  <thead>\n",
       "    <tr style=\"text-align: right;\">\n",
       "      <th></th>\n",
       "      <th>Order ID</th>\n",
       "      <th>Product</th>\n",
       "      <th>Quantity</th>\n",
       "      <th>Price</th>\n",
       "    </tr>\n",
       "  </thead>\n",
       "  <tbody>\n",
       "    <tr>\n",
       "      <th>0</th>\n",
       "      <td>2147</td>\n",
       "      <td>Widget C</td>\n",
       "      <td>5</td>\n",
       "      <td>76.91</td>\n",
       "    </tr>\n",
       "    <tr>\n",
       "      <th>1</th>\n",
       "      <td>7970</td>\n",
       "      <td>Widget B</td>\n",
       "      <td>16</td>\n",
       "      <td>4.94</td>\n",
       "    </tr>\n",
       "    <tr>\n",
       "      <th>2</th>\n",
       "      <td>4375</td>\n",
       "      <td>Widget B</td>\n",
       "      <td>3</td>\n",
       "      <td>96.73</td>\n",
       "    </tr>\n",
       "    <tr>\n",
       "      <th>3</th>\n",
       "      <td>5533</td>\n",
       "      <td>Widget B</td>\n",
       "      <td>1</td>\n",
       "      <td>87.43</td>\n",
       "    </tr>\n",
       "    <tr>\n",
       "      <th>4</th>\n",
       "      <td>7485</td>\n",
       "      <td>Widget A</td>\n",
       "      <td>15</td>\n",
       "      <td>85.80</td>\n",
       "    </tr>\n",
       "    <tr>\n",
       "      <th>...</th>\n",
       "      <td>...</td>\n",
       "      <td>...</td>\n",
       "      <td>...</td>\n",
       "      <td>...</td>\n",
       "    </tr>\n",
       "    <tr>\n",
       "      <th>95</th>\n",
       "      <td>7790</td>\n",
       "      <td>Widget A</td>\n",
       "      <td>4</td>\n",
       "      <td>86.72</td>\n",
       "    </tr>\n",
       "    <tr>\n",
       "      <th>96</th>\n",
       "      <td>1527</td>\n",
       "      <td>Widget C</td>\n",
       "      <td>3</td>\n",
       "      <td>42.22</td>\n",
       "    </tr>\n",
       "    <tr>\n",
       "      <th>97</th>\n",
       "      <td>1032</td>\n",
       "      <td>Widget B</td>\n",
       "      <td>12</td>\n",
       "      <td>31.58</td>\n",
       "    </tr>\n",
       "    <tr>\n",
       "      <th>98</th>\n",
       "      <td>1832</td>\n",
       "      <td>Widget A</td>\n",
       "      <td>10</td>\n",
       "      <td>1.20</td>\n",
       "    </tr>\n",
       "    <tr>\n",
       "      <th>99</th>\n",
       "      <td>4446</td>\n",
       "      <td>Widget A</td>\n",
       "      <td>9</td>\n",
       "      <td>84.32</td>\n",
       "    </tr>\n",
       "  </tbody>\n",
       "</table>\n",
       "<p>100 rows × 4 columns</p>\n",
       "</div>"
      ],
      "text/plain": [
       "    Order ID   Product  Quantity  Price\n",
       "0       2147  Widget C         5  76.91\n",
       "1       7970  Widget B        16   4.94\n",
       "2       4375  Widget B         3  96.73\n",
       "3       5533  Widget B         1  87.43\n",
       "4       7485  Widget A        15  85.80\n",
       "..       ...       ...       ...    ...\n",
       "95      7790  Widget A         4  86.72\n",
       "96      1527  Widget C         3  42.22\n",
       "97      1032  Widget B        12  31.58\n",
       "98      1832  Widget A        10   1.20\n",
       "99      4446  Widget A         9  84.32\n",
       "\n",
       "[100 rows x 4 columns]"
      ]
     },
     "execution_count": 5,
     "metadata": {},
     "output_type": "execute_result"
    }
   ],
   "source": [
    "df"
   ]
  },
  {
   "cell_type": "markdown",
   "id": "bd48a7db",
   "metadata": {},
   "source": [
    "This shows the DataFrame consists of 100 rows and 4 columns."
   ]
  },
  {
   "cell_type": "code",
   "execution_count": 6,
   "id": "7c9b42a6",
   "metadata": {},
   "outputs": [
    {
     "name": "stdout",
     "output_type": "stream",
     "text": [
      "<class 'pandas.core.frame.DataFrame'>\n",
      "RangeIndex: 100 entries, 0 to 99\n",
      "Data columns (total 4 columns):\n",
      " #   Column    Non-Null Count  Dtype  \n",
      "---  ------    --------------  -----  \n",
      " 0   Order ID  100 non-null    int64  \n",
      " 1   Product   100 non-null    object \n",
      " 2   Quantity  100 non-null    int64  \n",
      " 3   Price     100 non-null    float64\n",
      "dtypes: float64(1), int64(2), object(1)\n",
      "memory usage: 3.2+ KB\n"
     ]
    }
   ],
   "source": [
    "# This gives the information regarding the type and memory used and null values\n",
    "df.info()"
   ]
  },
  {
   "cell_type": "markdown",
   "id": "df38bac3",
   "metadata": {},
   "source": [
    "###### Exploratory Data Analysis (EDA)"
   ]
  },
  {
   "cell_type": "raw",
   "id": "3fd2dc8b",
   "metadata": {},
   "source": [
    "Let's explore:\n",
    "\n",
    "Column names and their associated data types\n",
    "Total number of columns & rows\n",
    "Duplicate values\n",
    "Missing (null) values\n",
    "Negative values\n",
    "Data consistency\n",
    "Basic statistics for quantitative variables (Count, Mean, Min, Median, Max)"
   ]
  },
  {
   "cell_type": "code",
   "execution_count": 7,
   "id": "8fa21cb7",
   "metadata": {},
   "outputs": [
    {
     "data": {
      "text/html": [
       "<div>\n",
       "<style scoped>\n",
       "    .dataframe tbody tr th:only-of-type {\n",
       "        vertical-align: middle;\n",
       "    }\n",
       "\n",
       "    .dataframe tbody tr th {\n",
       "        vertical-align: top;\n",
       "    }\n",
       "\n",
       "    .dataframe thead th {\n",
       "        text-align: right;\n",
       "    }\n",
       "</style>\n",
       "<table border=\"1\" class=\"dataframe\">\n",
       "  <thead>\n",
       "    <tr style=\"text-align: right;\">\n",
       "      <th></th>\n",
       "      <th>Order ID</th>\n",
       "      <th>Product</th>\n",
       "      <th>Quantity</th>\n",
       "      <th>Price</th>\n",
       "    </tr>\n",
       "  </thead>\n",
       "  <tbody>\n",
       "    <tr>\n",
       "      <th>0</th>\n",
       "      <td>2147</td>\n",
       "      <td>Widget C</td>\n",
       "      <td>5</td>\n",
       "      <td>76.91</td>\n",
       "    </tr>\n",
       "    <tr>\n",
       "      <th>1</th>\n",
       "      <td>7970</td>\n",
       "      <td>Widget B</td>\n",
       "      <td>16</td>\n",
       "      <td>4.94</td>\n",
       "    </tr>\n",
       "    <tr>\n",
       "      <th>2</th>\n",
       "      <td>4375</td>\n",
       "      <td>Widget B</td>\n",
       "      <td>3</td>\n",
       "      <td>96.73</td>\n",
       "    </tr>\n",
       "    <tr>\n",
       "      <th>3</th>\n",
       "      <td>5533</td>\n",
       "      <td>Widget B</td>\n",
       "      <td>1</td>\n",
       "      <td>87.43</td>\n",
       "    </tr>\n",
       "    <tr>\n",
       "      <th>4</th>\n",
       "      <td>7485</td>\n",
       "      <td>Widget A</td>\n",
       "      <td>15</td>\n",
       "      <td>85.80</td>\n",
       "    </tr>\n",
       "  </tbody>\n",
       "</table>\n",
       "</div>"
      ],
      "text/plain": [
       "   Order ID   Product  Quantity  Price\n",
       "0      2147  Widget C         5  76.91\n",
       "1      7970  Widget B        16   4.94\n",
       "2      4375  Widget B         3  96.73\n",
       "3      5533  Widget B         1  87.43\n",
       "4      7485  Widget A        15  85.80"
      ]
     },
     "execution_count": 7,
     "metadata": {},
     "output_type": "execute_result"
    }
   ],
   "source": [
    "#collecting the first 5 rows\n",
    "\n",
    "df.head()  "
   ]
  },
  {
   "cell_type": "code",
   "execution_count": 8,
   "id": "51ba2500",
   "metadata": {},
   "outputs": [
    {
     "data": {
      "text/html": [
       "<div>\n",
       "<style scoped>\n",
       "    .dataframe tbody tr th:only-of-type {\n",
       "        vertical-align: middle;\n",
       "    }\n",
       "\n",
       "    .dataframe tbody tr th {\n",
       "        vertical-align: top;\n",
       "    }\n",
       "\n",
       "    .dataframe thead th {\n",
       "        text-align: right;\n",
       "    }\n",
       "</style>\n",
       "<table border=\"1\" class=\"dataframe\">\n",
       "  <thead>\n",
       "    <tr style=\"text-align: right;\">\n",
       "      <th></th>\n",
       "      <th>Order ID</th>\n",
       "      <th>Product</th>\n",
       "      <th>Quantity</th>\n",
       "      <th>Price</th>\n",
       "    </tr>\n",
       "  </thead>\n",
       "  <tbody>\n",
       "    <tr>\n",
       "      <th>95</th>\n",
       "      <td>7790</td>\n",
       "      <td>Widget A</td>\n",
       "      <td>4</td>\n",
       "      <td>86.72</td>\n",
       "    </tr>\n",
       "    <tr>\n",
       "      <th>96</th>\n",
       "      <td>1527</td>\n",
       "      <td>Widget C</td>\n",
       "      <td>3</td>\n",
       "      <td>42.22</td>\n",
       "    </tr>\n",
       "    <tr>\n",
       "      <th>97</th>\n",
       "      <td>1032</td>\n",
       "      <td>Widget B</td>\n",
       "      <td>12</td>\n",
       "      <td>31.58</td>\n",
       "    </tr>\n",
       "    <tr>\n",
       "      <th>98</th>\n",
       "      <td>1832</td>\n",
       "      <td>Widget A</td>\n",
       "      <td>10</td>\n",
       "      <td>1.20</td>\n",
       "    </tr>\n",
       "    <tr>\n",
       "      <th>99</th>\n",
       "      <td>4446</td>\n",
       "      <td>Widget A</td>\n",
       "      <td>9</td>\n",
       "      <td>84.32</td>\n",
       "    </tr>\n",
       "  </tbody>\n",
       "</table>\n",
       "</div>"
      ],
      "text/plain": [
       "    Order ID   Product  Quantity  Price\n",
       "95      7790  Widget A         4  86.72\n",
       "96      1527  Widget C         3  42.22\n",
       "97      1032  Widget B        12  31.58\n",
       "98      1832  Widget A        10   1.20\n",
       "99      4446  Widget A         9  84.32"
      ]
     },
     "execution_count": 8,
     "metadata": {},
     "output_type": "execute_result"
    }
   ],
   "source": [
    "#collecting the last 5 rows\n",
    "df.tail()"
   ]
  },
  {
   "cell_type": "code",
   "execution_count": 9,
   "id": "936f3ef0",
   "metadata": {},
   "outputs": [
    {
     "data": {
      "text/plain": [
       "(100, 4)"
      ]
     },
     "execution_count": 9,
     "metadata": {},
     "output_type": "execute_result"
    }
   ],
   "source": [
    "#GETTING THE DIMENSION OF THE DF\n",
    "df.shape "
   ]
  },
  {
   "cell_type": "code",
   "execution_count": 10,
   "id": "a8b17ca9",
   "metadata": {},
   "outputs": [
    {
     "data": {
      "text/plain": [
       "Index(['Order ID', 'Product', 'Quantity', 'Price'], dtype='object')"
      ]
     },
     "execution_count": 10,
     "metadata": {},
     "output_type": "execute_result"
    }
   ],
   "source": [
    "# find out all the columns \n",
    "\n",
    "df.columns"
   ]
  },
  {
   "cell_type": "code",
   "execution_count": 11,
   "id": "07c0745d",
   "metadata": {},
   "outputs": [
    {
     "data": {
      "text/plain": [
       "0     False\n",
       "1     False\n",
       "2     False\n",
       "3     False\n",
       "4     False\n",
       "      ...  \n",
       "95    False\n",
       "96    False\n",
       "97    False\n",
       "98    False\n",
       "99    False\n",
       "Length: 100, dtype: bool"
      ]
     },
     "execution_count": 11,
     "metadata": {},
     "output_type": "execute_result"
    }
   ],
   "source": [
    "# checking for duplicates\n",
    "df.duplicated()"
   ]
  },
  {
   "cell_type": "code",
   "execution_count": 12,
   "id": "f001d950",
   "metadata": {},
   "outputs": [
    {
     "data": {
      "text/html": [
       "<div>\n",
       "<style scoped>\n",
       "    .dataframe tbody tr th:only-of-type {\n",
       "        vertical-align: middle;\n",
       "    }\n",
       "\n",
       "    .dataframe tbody tr th {\n",
       "        vertical-align: top;\n",
       "    }\n",
       "\n",
       "    .dataframe thead th {\n",
       "        text-align: right;\n",
       "    }\n",
       "</style>\n",
       "<table border=\"1\" class=\"dataframe\">\n",
       "  <thead>\n",
       "    <tr style=\"text-align: right;\">\n",
       "      <th></th>\n",
       "      <th>Order ID</th>\n",
       "      <th>Product</th>\n",
       "      <th>Quantity</th>\n",
       "    </tr>\n",
       "  </thead>\n",
       "  <tbody>\n",
       "    <tr>\n",
       "      <th>1</th>\n",
       "      <td>7970</td>\n",
       "      <td>Widget B</td>\n",
       "      <td>16</td>\n",
       "    </tr>\n",
       "    <tr>\n",
       "      <th>2</th>\n",
       "      <td>4375</td>\n",
       "      <td>Widget B</td>\n",
       "      <td>3</td>\n",
       "    </tr>\n",
       "    <tr>\n",
       "      <th>3</th>\n",
       "      <td>5533</td>\n",
       "      <td>Widget B</td>\n",
       "      <td>1</td>\n",
       "    </tr>\n",
       "  </tbody>\n",
       "</table>\n",
       "</div>"
      ],
      "text/plain": [
       "   Order ID   Product  Quantity\n",
       "1      7970  Widget B        16\n",
       "2      4375  Widget B         3\n",
       "3      5533  Widget B         1"
      ]
     },
     "execution_count": 12,
     "metadata": {},
     "output_type": "execute_result"
    }
   ],
   "source": [
    "df.iloc[1:4,0:3]"
   ]
  },
  {
   "cell_type": "code",
   "execution_count": 13,
   "id": "e8f0d09c",
   "metadata": {},
   "outputs": [
    {
     "data": {
      "text/plain": [
       "'Widget C'"
      ]
     },
     "execution_count": 13,
     "metadata": {},
     "output_type": "execute_result"
    }
   ],
   "source": [
    "df.loc[8,'Product']"
   ]
  },
  {
   "cell_type": "code",
   "execution_count": 14,
   "id": "8a70385a",
   "metadata": {},
   "outputs": [
    {
     "data": {
      "text/html": [
       "<div>\n",
       "<style scoped>\n",
       "    .dataframe tbody tr th:only-of-type {\n",
       "        vertical-align: middle;\n",
       "    }\n",
       "\n",
       "    .dataframe tbody tr th {\n",
       "        vertical-align: top;\n",
       "    }\n",
       "\n",
       "    .dataframe thead th {\n",
       "        text-align: right;\n",
       "    }\n",
       "</style>\n",
       "<table border=\"1\" class=\"dataframe\">\n",
       "  <thead>\n",
       "    <tr style=\"text-align: right;\">\n",
       "      <th></th>\n",
       "      <th>Order ID</th>\n",
       "      <th>Quantity</th>\n",
       "      <th>Price</th>\n",
       "    </tr>\n",
       "  </thead>\n",
       "  <tbody>\n",
       "    <tr>\n",
       "      <th>count</th>\n",
       "      <td>100.000000</td>\n",
       "      <td>100.000000</td>\n",
       "      <td>100.000000</td>\n",
       "    </tr>\n",
       "    <tr>\n",
       "      <th>mean</th>\n",
       "      <td>5360.510000</td>\n",
       "      <td>10.450000</td>\n",
       "      <td>49.644500</td>\n",
       "    </tr>\n",
       "    <tr>\n",
       "      <th>std</th>\n",
       "      <td>2693.313717</td>\n",
       "      <td>5.598295</td>\n",
       "      <td>30.477629</td>\n",
       "    </tr>\n",
       "    <tr>\n",
       "      <th>min</th>\n",
       "      <td>1032.000000</td>\n",
       "      <td>1.000000</td>\n",
       "      <td>1.200000</td>\n",
       "    </tr>\n",
       "    <tr>\n",
       "      <th>25%</th>\n",
       "      <td>3039.500000</td>\n",
       "      <td>6.000000</td>\n",
       "      <td>22.652500</td>\n",
       "    </tr>\n",
       "    <tr>\n",
       "      <th>50%</th>\n",
       "      <td>5096.500000</td>\n",
       "      <td>10.000000</td>\n",
       "      <td>51.380000</td>\n",
       "    </tr>\n",
       "    <tr>\n",
       "      <th>75%</th>\n",
       "      <td>7837.500000</td>\n",
       "      <td>15.000000</td>\n",
       "      <td>76.092500</td>\n",
       "    </tr>\n",
       "    <tr>\n",
       "      <th>max</th>\n",
       "      <td>9849.000000</td>\n",
       "      <td>20.000000</td>\n",
       "      <td>99.080000</td>\n",
       "    </tr>\n",
       "  </tbody>\n",
       "</table>\n",
       "</div>"
      ],
      "text/plain": [
       "          Order ID    Quantity       Price\n",
       "count   100.000000  100.000000  100.000000\n",
       "mean   5360.510000   10.450000   49.644500\n",
       "std    2693.313717    5.598295   30.477629\n",
       "min    1032.000000    1.000000    1.200000\n",
       "25%    3039.500000    6.000000   22.652500\n",
       "50%    5096.500000   10.000000   51.380000\n",
       "75%    7837.500000   15.000000   76.092500\n",
       "max    9849.000000   20.000000   99.080000"
      ]
     },
     "execution_count": 14,
     "metadata": {},
     "output_type": "execute_result"
    }
   ],
   "source": [
    "# getting the Statistical information from the Data\n",
    "df.describe()"
   ]
  },
  {
   "cell_type": "markdown",
   "id": "3fb89e94",
   "metadata": {},
   "source": [
    "From the above Maximum and minimum values, it is clear that there is a huge difference in the price values."
   ]
  },
  {
   "cell_type": "code",
   "execution_count": 26,
   "id": "ea1c8fce",
   "metadata": {},
   "outputs": [
    {
     "data": {
      "text/plain": [
       "array(['Widget C', 'Widget B', 'Widget A'], dtype=object)"
      ]
     },
     "execution_count": 26,
     "metadata": {},
     "output_type": "execute_result"
    }
   ],
   "source": [
    "# Finding how many types of Products are there .\n",
    "df[\"Product\"].unique()"
   ]
  },
  {
   "cell_type": "markdown",
   "id": "2000bc0c",
   "metadata": {},
   "source": [
    "It shows that,there are only three types of products are present in the e-commerce website."
   ]
  },
  {
   "cell_type": "markdown",
   "id": "c7b109c6",
   "metadata": {},
   "source": [
    "###### Data Cleaning"
   ]
  },
  {
   "cell_type": "code",
   "execution_count": 16,
   "id": "447376ee",
   "metadata": {},
   "outputs": [
    {
     "data": {
      "text/plain": [
       "Order ID    0\n",
       "Product     0\n",
       "Quantity    0\n",
       "Price       0\n",
       "dtype: int64"
      ]
     },
     "execution_count": 16,
     "metadata": {},
     "output_type": "execute_result"
    }
   ],
   "source": [
    "# finding the number of null vvalue present in each column\n",
    "df.isna().sum()"
   ]
  },
  {
   "cell_type": "markdown",
   "id": "93c19096",
   "metadata": {},
   "source": [
    "So it is clear that there is no null value in the given Data and the data type is integer."
   ]
  },
  {
   "cell_type": "raw",
   "id": "b60c4261",
   "metadata": {},
   "source": [
    ".\n",
    ".Which product is more popular among the customers ? "
   ]
  },
  {
   "cell_type": "code",
   "execution_count": 34,
   "id": "5f7a3390",
   "metadata": {},
   "outputs": [
    {
     "data": {
      "text/plain": [
       "99.08"
      ]
     },
     "execution_count": 34,
     "metadata": {},
     "output_type": "execute_result"
    }
   ],
   "source": [
    "# maximum price of the Product\n",
    "df['Price'].max()"
   ]
  },
  {
   "cell_type": "markdown",
   "id": "1353b909",
   "metadata": {},
   "source": [
    "So, the maximum price of the Product is 99.08"
   ]
  },
  {
   "cell_type": "raw",
   "id": "31c99a16",
   "metadata": {},
   "source": [
    "Which product has maximum price ?"
   ]
  },
  {
   "cell_type": "code",
   "execution_count": 36,
   "id": "3054d84a",
   "metadata": {},
   "outputs": [
    {
     "data": {
      "text/html": [
       "<div>\n",
       "<style scoped>\n",
       "    .dataframe tbody tr th:only-of-type {\n",
       "        vertical-align: middle;\n",
       "    }\n",
       "\n",
       "    .dataframe tbody tr th {\n",
       "        vertical-align: top;\n",
       "    }\n",
       "\n",
       "    .dataframe thead th {\n",
       "        text-align: right;\n",
       "    }\n",
       "</style>\n",
       "<table border=\"1\" class=\"dataframe\">\n",
       "  <thead>\n",
       "    <tr style=\"text-align: right;\">\n",
       "      <th></th>\n",
       "      <th>Order ID</th>\n",
       "      <th>Quantity</th>\n",
       "      <th>Price</th>\n",
       "      <th>Total_Revenue</th>\n",
       "    </tr>\n",
       "    <tr>\n",
       "      <th>Product</th>\n",
       "      <th></th>\n",
       "      <th></th>\n",
       "      <th></th>\n",
       "      <th></th>\n",
       "    </tr>\n",
       "  </thead>\n",
       "  <tbody>\n",
       "    <tr>\n",
       "      <th>Widget A</th>\n",
       "      <td>9835</td>\n",
       "      <td>20</td>\n",
       "      <td>99.08</td>\n",
       "      <td>1684.36</td>\n",
       "    </tr>\n",
       "    <tr>\n",
       "      <th>Widget B</th>\n",
       "      <td>9849</td>\n",
       "      <td>19</td>\n",
       "      <td>98.49</td>\n",
       "      <td>1871.31</td>\n",
       "    </tr>\n",
       "    <tr>\n",
       "      <th>Widget C</th>\n",
       "      <td>9638</td>\n",
       "      <td>20</td>\n",
       "      <td>97.93</td>\n",
       "      <td>1741.50</td>\n",
       "    </tr>\n",
       "  </tbody>\n",
       "</table>\n",
       "</div>"
      ],
      "text/plain": [
       "          Order ID  Quantity  Price  Total_Revenue\n",
       "Product                                           \n",
       "Widget A      9835        20  99.08        1684.36\n",
       "Widget B      9849        19  98.49        1871.31\n",
       "Widget C      9638        20  97.93        1741.50"
      ]
     },
     "execution_count": 36,
     "metadata": {},
     "output_type": "execute_result"
    }
   ],
   "source": [
    "df.groupby('Product').max()"
   ]
  },
  {
   "cell_type": "markdown",
   "id": "02d8ad03",
   "metadata": {},
   "source": [
    "This shows the product Widget A has maximum Price."
   ]
  },
  {
   "cell_type": "raw",
   "id": "e138f037",
   "metadata": {},
   "source": [
    "Calculating the total Revenue:"
   ]
  },
  {
   "cell_type": "code",
   "execution_count": 18,
   "id": "a88081f2",
   "metadata": {},
   "outputs": [],
   "source": [
    "df['Total_Revenue']=df['Price'] * df['Quantity']"
   ]
  },
  {
   "cell_type": "code",
   "execution_count": 19,
   "id": "5297b5a6",
   "metadata": {},
   "outputs": [
    {
     "data": {
      "text/html": [
       "<div>\n",
       "<style scoped>\n",
       "    .dataframe tbody tr th:only-of-type {\n",
       "        vertical-align: middle;\n",
       "    }\n",
       "\n",
       "    .dataframe tbody tr th {\n",
       "        vertical-align: top;\n",
       "    }\n",
       "\n",
       "    .dataframe thead th {\n",
       "        text-align: right;\n",
       "    }\n",
       "</style>\n",
       "<table border=\"1\" class=\"dataframe\">\n",
       "  <thead>\n",
       "    <tr style=\"text-align: right;\">\n",
       "      <th></th>\n",
       "      <th>Order ID</th>\n",
       "      <th>Product</th>\n",
       "      <th>Quantity</th>\n",
       "      <th>Price</th>\n",
       "      <th>Total_Revenue</th>\n",
       "    </tr>\n",
       "  </thead>\n",
       "  <tbody>\n",
       "    <tr>\n",
       "      <th>0</th>\n",
       "      <td>2147</td>\n",
       "      <td>Widget C</td>\n",
       "      <td>5</td>\n",
       "      <td>76.91</td>\n",
       "      <td>384.55</td>\n",
       "    </tr>\n",
       "    <tr>\n",
       "      <th>1</th>\n",
       "      <td>7970</td>\n",
       "      <td>Widget B</td>\n",
       "      <td>16</td>\n",
       "      <td>4.94</td>\n",
       "      <td>79.04</td>\n",
       "    </tr>\n",
       "    <tr>\n",
       "      <th>2</th>\n",
       "      <td>4375</td>\n",
       "      <td>Widget B</td>\n",
       "      <td>3</td>\n",
       "      <td>96.73</td>\n",
       "      <td>290.19</td>\n",
       "    </tr>\n",
       "    <tr>\n",
       "      <th>3</th>\n",
       "      <td>5533</td>\n",
       "      <td>Widget B</td>\n",
       "      <td>1</td>\n",
       "      <td>87.43</td>\n",
       "      <td>87.43</td>\n",
       "    </tr>\n",
       "    <tr>\n",
       "      <th>4</th>\n",
       "      <td>7485</td>\n",
       "      <td>Widget A</td>\n",
       "      <td>15</td>\n",
       "      <td>85.80</td>\n",
       "      <td>1287.00</td>\n",
       "    </tr>\n",
       "    <tr>\n",
       "      <th>...</th>\n",
       "      <td>...</td>\n",
       "      <td>...</td>\n",
       "      <td>...</td>\n",
       "      <td>...</td>\n",
       "      <td>...</td>\n",
       "    </tr>\n",
       "    <tr>\n",
       "      <th>95</th>\n",
       "      <td>7790</td>\n",
       "      <td>Widget A</td>\n",
       "      <td>4</td>\n",
       "      <td>86.72</td>\n",
       "      <td>346.88</td>\n",
       "    </tr>\n",
       "    <tr>\n",
       "      <th>96</th>\n",
       "      <td>1527</td>\n",
       "      <td>Widget C</td>\n",
       "      <td>3</td>\n",
       "      <td>42.22</td>\n",
       "      <td>126.66</td>\n",
       "    </tr>\n",
       "    <tr>\n",
       "      <th>97</th>\n",
       "      <td>1032</td>\n",
       "      <td>Widget B</td>\n",
       "      <td>12</td>\n",
       "      <td>31.58</td>\n",
       "      <td>378.96</td>\n",
       "    </tr>\n",
       "    <tr>\n",
       "      <th>98</th>\n",
       "      <td>1832</td>\n",
       "      <td>Widget A</td>\n",
       "      <td>10</td>\n",
       "      <td>1.20</td>\n",
       "      <td>12.00</td>\n",
       "    </tr>\n",
       "    <tr>\n",
       "      <th>99</th>\n",
       "      <td>4446</td>\n",
       "      <td>Widget A</td>\n",
       "      <td>9</td>\n",
       "      <td>84.32</td>\n",
       "      <td>758.88</td>\n",
       "    </tr>\n",
       "  </tbody>\n",
       "</table>\n",
       "<p>100 rows × 5 columns</p>\n",
       "</div>"
      ],
      "text/plain": [
       "    Order ID   Product  Quantity  Price  Total_Revenue\n",
       "0       2147  Widget C         5  76.91         384.55\n",
       "1       7970  Widget B        16   4.94          79.04\n",
       "2       4375  Widget B         3  96.73         290.19\n",
       "3       5533  Widget B         1  87.43          87.43\n",
       "4       7485  Widget A        15  85.80        1287.00\n",
       "..       ...       ...       ...    ...            ...\n",
       "95      7790  Widget A         4  86.72         346.88\n",
       "96      1527  Widget C         3  42.22         126.66\n",
       "97      1032  Widget B        12  31.58         378.96\n",
       "98      1832  Widget A        10   1.20          12.00\n",
       "99      4446  Widget A         9  84.32         758.88\n",
       "\n",
       "[100 rows x 5 columns]"
      ]
     },
     "execution_count": 19,
     "metadata": {},
     "output_type": "execute_result"
    }
   ],
   "source": [
    "df"
   ]
  },
  {
   "cell_type": "raw",
   "id": "0a1d0c68",
   "metadata": {},
   "source": [
    "Find the most popular product:"
   ]
  },
  {
   "cell_type": "code",
   "execution_count": 28,
   "id": "8f8795c1",
   "metadata": {},
   "outputs": [
    {
     "data": {
      "text/html": [
       "<div>\n",
       "<style scoped>\n",
       "    .dataframe tbody tr th:only-of-type {\n",
       "        vertical-align: middle;\n",
       "    }\n",
       "\n",
       "    .dataframe tbody tr th {\n",
       "        vertical-align: top;\n",
       "    }\n",
       "\n",
       "    .dataframe thead th {\n",
       "        text-align: right;\n",
       "    }\n",
       "</style>\n",
       "<table border=\"1\" class=\"dataframe\">\n",
       "  <thead>\n",
       "    <tr style=\"text-align: right;\">\n",
       "      <th></th>\n",
       "      <th>Order ID</th>\n",
       "      <th>Product</th>\n",
       "      <th>Quantity</th>\n",
       "      <th>Price</th>\n",
       "      <th>Total_Revenue</th>\n",
       "    </tr>\n",
       "  </thead>\n",
       "  <tbody>\n",
       "    <tr>\n",
       "      <th>0</th>\n",
       "      <td>1032</td>\n",
       "      <td>Widget A</td>\n",
       "      <td>6.0</td>\n",
       "      <td>1.20</td>\n",
       "      <td>12.00</td>\n",
       "    </tr>\n",
       "    <tr>\n",
       "      <th>1</th>\n",
       "      <td>1056</td>\n",
       "      <td>NaN</td>\n",
       "      <td>NaN</td>\n",
       "      <td>1.90</td>\n",
       "      <td>17.49</td>\n",
       "    </tr>\n",
       "    <tr>\n",
       "      <th>2</th>\n",
       "      <td>1095</td>\n",
       "      <td>NaN</td>\n",
       "      <td>NaN</td>\n",
       "      <td>2.26</td>\n",
       "      <td>18.02</td>\n",
       "    </tr>\n",
       "    <tr>\n",
       "      <th>3</th>\n",
       "      <td>1104</td>\n",
       "      <td>NaN</td>\n",
       "      <td>NaN</td>\n",
       "      <td>3.94</td>\n",
       "      <td>25.97</td>\n",
       "    </tr>\n",
       "    <tr>\n",
       "      <th>4</th>\n",
       "      <td>1275</td>\n",
       "      <td>NaN</td>\n",
       "      <td>NaN</td>\n",
       "      <td>4.17</td>\n",
       "      <td>27.12</td>\n",
       "    </tr>\n",
       "    <tr>\n",
       "      <th>...</th>\n",
       "      <td>...</td>\n",
       "      <td>...</td>\n",
       "      <td>...</td>\n",
       "      <td>...</td>\n",
       "      <td>...</td>\n",
       "    </tr>\n",
       "    <tr>\n",
       "      <th>95</th>\n",
       "      <td>9590</td>\n",
       "      <td>NaN</td>\n",
       "      <td>NaN</td>\n",
       "      <td>96.73</td>\n",
       "      <td>1541.85</td>\n",
       "    </tr>\n",
       "    <tr>\n",
       "      <th>96</th>\n",
       "      <td>9638</td>\n",
       "      <td>NaN</td>\n",
       "      <td>NaN</td>\n",
       "      <td>96.75</td>\n",
       "      <td>1684.36</td>\n",
       "    </tr>\n",
       "    <tr>\n",
       "      <th>97</th>\n",
       "      <td>9656</td>\n",
       "      <td>NaN</td>\n",
       "      <td>NaN</td>\n",
       "      <td>97.93</td>\n",
       "      <td>1736.64</td>\n",
       "    </tr>\n",
       "    <tr>\n",
       "      <th>98</th>\n",
       "      <td>9835</td>\n",
       "      <td>NaN</td>\n",
       "      <td>NaN</td>\n",
       "      <td>98.49</td>\n",
       "      <td>1741.50</td>\n",
       "    </tr>\n",
       "    <tr>\n",
       "      <th>99</th>\n",
       "      <td>9849</td>\n",
       "      <td>NaN</td>\n",
       "      <td>NaN</td>\n",
       "      <td>99.08</td>\n",
       "      <td>1871.31</td>\n",
       "    </tr>\n",
       "  </tbody>\n",
       "</table>\n",
       "<p>100 rows × 5 columns</p>\n",
       "</div>"
      ],
      "text/plain": [
       "    Order ID   Product  Quantity  Price  Total_Revenue\n",
       "0       1032  Widget A       6.0   1.20          12.00\n",
       "1       1056       NaN       NaN   1.90          17.49\n",
       "2       1095       NaN       NaN   2.26          18.02\n",
       "3       1104       NaN       NaN   3.94          25.97\n",
       "4       1275       NaN       NaN   4.17          27.12\n",
       "..       ...       ...       ...    ...            ...\n",
       "95      9590       NaN       NaN  96.73        1541.85\n",
       "96      9638       NaN       NaN  96.75        1684.36\n",
       "97      9656       NaN       NaN  97.93        1736.64\n",
       "98      9835       NaN       NaN  98.49        1741.50\n",
       "99      9849       NaN       NaN  99.08        1871.31\n",
       "\n",
       "[100 rows x 5 columns]"
      ]
     },
     "execution_count": 28,
     "metadata": {},
     "output_type": "execute_result"
    }
   ],
   "source": [
    "df.mode()"
   ]
  },
  {
   "cell_type": "code",
   "execution_count": 35,
   "id": "d922ab70",
   "metadata": {},
   "outputs": [
    {
     "data": {
      "text/plain": [
       "Widget A    38\n",
       "Widget C    31\n",
       "Widget B    31\n",
       "Name: Product, dtype: int64"
      ]
     },
     "execution_count": 35,
     "metadata": {},
     "output_type": "execute_result"
    }
   ],
   "source": [
    "df['Product'].value_counts()"
   ]
  },
  {
   "cell_type": "markdown",
   "id": "7d70c24d",
   "metadata": {},
   "source": [
    "So, this shows the product Widget A is the most popular product."
   ]
  },
  {
   "cell_type": "raw",
   "id": "79e67dba",
   "metadata": {},
   "source": [
    "Find the average value of each Products."
   ]
  },
  {
   "cell_type": "code",
   "execution_count": 37,
   "id": "c2afb36e",
   "metadata": {},
   "outputs": [
    {
     "data": {
      "text/html": [
       "<div>\n",
       "<style scoped>\n",
       "    .dataframe tbody tr th:only-of-type {\n",
       "        vertical-align: middle;\n",
       "    }\n",
       "\n",
       "    .dataframe tbody tr th {\n",
       "        vertical-align: top;\n",
       "    }\n",
       "\n",
       "    .dataframe thead th {\n",
       "        text-align: right;\n",
       "    }\n",
       "</style>\n",
       "<table border=\"1\" class=\"dataframe\">\n",
       "  <thead>\n",
       "    <tr style=\"text-align: right;\">\n",
       "      <th></th>\n",
       "      <th>Order ID</th>\n",
       "      <th>Quantity</th>\n",
       "      <th>Price</th>\n",
       "      <th>Total_Revenue</th>\n",
       "    </tr>\n",
       "    <tr>\n",
       "      <th>Product</th>\n",
       "      <th></th>\n",
       "      <th></th>\n",
       "      <th></th>\n",
       "      <th></th>\n",
       "    </tr>\n",
       "  </thead>\n",
       "  <tbody>\n",
       "    <tr>\n",
       "      <th>Widget A</th>\n",
       "      <td>5199.236842</td>\n",
       "      <td>11.263158</td>\n",
       "      <td>53.338158</td>\n",
       "      <td>605.543684</td>\n",
       "    </tr>\n",
       "    <tr>\n",
       "      <th>Widget B</th>\n",
       "      <td>5786.387097</td>\n",
       "      <td>10.677419</td>\n",
       "      <td>48.299677</td>\n",
       "      <td>528.464839</td>\n",
       "    </tr>\n",
       "    <tr>\n",
       "      <th>Widget C</th>\n",
       "      <td>5132.322581</td>\n",
       "      <td>9.225806</td>\n",
       "      <td>46.461613</td>\n",
       "      <td>453.714194</td>\n",
       "    </tr>\n",
       "  </tbody>\n",
       "</table>\n",
       "</div>"
      ],
      "text/plain": [
       "             Order ID   Quantity      Price  Total_Revenue\n",
       "Product                                                   \n",
       "Widget A  5199.236842  11.263158  53.338158     605.543684\n",
       "Widget B  5786.387097  10.677419  48.299677     528.464839\n",
       "Widget C  5132.322581   9.225806  46.461613     453.714194"
      ]
     },
     "execution_count": 37,
     "metadata": {},
     "output_type": "execute_result"
    }
   ],
   "source": [
    "df.groupby('Product').mean()"
   ]
  },
  {
   "cell_type": "markdown",
   "id": "3f2caaef",
   "metadata": {},
   "source": [
    "###### Visualization"
   ]
  },
  {
   "cell_type": "code",
   "execution_count": 22,
   "id": "5fc02373",
   "metadata": {},
   "outputs": [
    {
     "data": {
      "image/png": "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\n",
      "text/plain": [
       "<Figure size 432x288 with 1 Axes>"
      ]
     },
     "metadata": {
      "needs_background": "light"
     },
     "output_type": "display_data"
    }
   ],
   "source": [
    "df.plot(kind='scatter' ,x='Product' ,y='Price')\n",
    "plt.show()"
   ]
  },
  {
   "cell_type": "code",
   "execution_count": 12,
   "id": "bcde0f07",
   "metadata": {},
   "outputs": [
    {
     "data": {
      "image/png": "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\n",
      "text/plain": [
       "<Figure size 432x288 with 1 Axes>"
      ]
     },
     "metadata": {
      "needs_background": "light"
     },
     "output_type": "display_data"
    }
   ],
   "source": [
    "plt.plot(df[\"Product\"],df[\"Price\"])\n",
    "plt.show()"
   ]
  },
  {
   "cell_type": "code",
   "execution_count": 13,
   "id": "75776f9e",
   "metadata": {},
   "outputs": [
    {
     "data": {
      "text/plain": [
       "<AxesSubplot:>"
      ]
     },
     "execution_count": 13,
     "metadata": {},
     "output_type": "execute_result"
    },
    {
     "data": {
      "image/png": "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\n",
      "text/plain": [
       "<Figure size 432x288 with 1 Axes>"
      ]
     },
     "metadata": {
      "needs_background": "light"
     },
     "output_type": "display_data"
    }
   ],
   "source": [
    "df['Product'].hist()"
   ]
  },
  {
   "cell_type": "code",
   "execution_count": 30,
   "id": "ee98d255",
   "metadata": {},
   "outputs": [
    {
     "data": {
      "text/plain": [
       "<AxesSubplot:>"
      ]
     },
     "execution_count": 30,
     "metadata": {},
     "output_type": "execute_result"
    },
    {
     "data": {
      "image/png": "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\n",
      "text/plain": [
       "<Figure size 432x288 with 1 Axes>"
      ]
     },
     "metadata": {
      "needs_background": "light"
     },
     "output_type": "display_data"
    }
   ],
   "source": [
    "df.plot.box(x='Product',y='Quantity')"
   ]
  },
  {
   "cell_type": "code",
   "execution_count": 5,
   "id": "903a38f9",
   "metadata": {},
   "outputs": [
    {
     "name": "stdout",
     "output_type": "stream",
     "text": [
      "30\n"
     ]
    }
   ],
   "source": [
    "def calculate_score(ops):\n",
    "    record=[]\n",
    "    for op in ops:\n",
    "        if op=='+':\n",
    "            record.append(record[-1] + record[-2])\n",
    "        elif op=='D':\n",
    "            record.append(2*record[-1])\n",
    "        elif op=='C':\n",
    "            record.pop()\n",
    "        else:\n",
    "            record.append(int(op))\n",
    "    return sum(record)\n",
    "\n",
    "print(calculate_score(['5','2','C','D','+']))"
   ]
  },
  {
   "cell_type": "code",
   "execution_count": null,
   "id": "81608995",
   "metadata": {},
   "outputs": [],
   "source": []
  }
 ],
 "metadata": {
  "kernelspec": {
   "display_name": "Python 3",
   "language": "python",
   "name": "python3"
  },
  "language_info": {
   "codemirror_mode": {
    "name": "ipython",
    "version": 3
   },
   "file_extension": ".py",
   "mimetype": "text/x-python",
   "name": "python",
   "nbconvert_exporter": "python",
   "pygments_lexer": "ipython3",
   "version": "3.8.8"
  }
 },
 "nbformat": 4,
 "nbformat_minor": 5
}
